{
  "nbformat": 4,
  "nbformat_minor": 0,
  "metadata": {
    "colab": {
      "provenance": [],
      "authorship_tag": "ABX9TyMSB3iKLX6iEUymx5xoEjbp",
      "include_colab_link": true
    },
    "kernelspec": {
      "name": "python3",
      "display_name": "Python 3"
    },
    "language_info": {
      "name": "python"
    }
  },
  "cells": [
    {
      "cell_type": "markdown",
      "metadata": {
        "id": "view-in-github",
        "colab_type": "text"
      },
      "source": [
        "<a href=\"https://colab.research.google.com/github/Donaldwic/Quant/blob/main/Portfolio_Optimization_Using_Black_Litterman_Model.ipynb\" target=\"_parent\"><img src=\"https://colab.research.google.com/assets/colab-badge.svg\" alt=\"Open In Colab\"/></a>"
      ]
    },
    {
      "cell_type": "markdown",
      "source": [
        "# Black-Litterman Model Formula Overview\n",
        "The model involves three main steps:\n",
        "\n",
        "Calculate Implied Equilibrium Returns (Π)\n",
        "\n",
        "$$ Π=𝛿⋅Σ⋅𝑤 $$\n",
        "\n",
        "where:\n",
        "\n",
        "\n",
        "$Π$ is the vector of implied returns,\n",
        "\n",
        "$δ$ is the risk aversion coefficient,\n",
        "\n",
        "$Σ$ is the covariance matrix of returns,\n",
        "\n",
        "$w$ is the vector of market weights.\n",
        "\n",
        "Investor Views Adjustment The views are incorporated by adjusting the implied returns. Suppose there are $Q$ views with a view matrix $P$ and a view return vector $q$. Then, the adjusted returns $𝜇$ are:\n",
        "<br>\n",
        "\n",
        "$$𝜇=(Σ^{-1}+𝑃^{𝑇}Ω^{−1}𝑃)^{−1}⋅(Σ^{−1}Π+𝑃^{𝑇}Ω^{−1}𝑞)$$\n",
        "where:\n",
        "\n",
        "\n",
        "$P$ is the matrix representing the views,\n",
        "\n",
        "$Ω$ is the covariance matrix of the views,\n",
        "\n",
        "$q$ is the vector of returns based on investor views.\n",
        "Optimized Portfolio Weights Using the adjusted returns\n",
        "\n",
        "$μ$, we solve for optimal weights by maximizing the Sharpe ratio through standard mean-variance optimization:\n",
        "\n",
        "The Black-Litterman model's key advantage is that it allows investors to incorporate their own fundamental views on specific assets or sectors into the portfolio optimization process. <br>Unlike traditional models that rely solely on historical returns, the Black-Litterman model blends these subjective views with the market's equilibrium returns. This means that if an investor has unique insights based on fundamental analysis (e.g., company earnings, economic indicators), they can reflect these insights in the portfolio.\n",
        "\n",
        "The model also lets investors adjust the confidence level of each view, ensuring a balanced integration with market data. This flexibility leads to a more customized and potentially more accurate portfolio that aligns with both market conditions and investor insights."
      ],
      "metadata": {
        "id": "s86P0iyy8Lg2"
      }
    },
    {
      "cell_type": "markdown",
      "source": [
        "# Install Library\n"
      ],
      "metadata": {
        "id": "TUURx7v57Vg2"
      }
    },
    {
      "cell_type": "code",
      "execution_count": 1,
      "metadata": {
        "colab": {
          "base_uri": "https://localhost:8080/"
        },
        "id": "0gWZF64b6xDM",
        "outputId": "243e0ce9-a763-4f34-9980-7bceccd7e31a",
        "collapsed": true
      },
      "outputs": [
        {
          "output_type": "stream",
          "name": "stdout",
          "text": [
            "Requirement already satisfied: pandas in /usr/local/lib/python3.10/dist-packages (2.2.2)\n",
            "Requirement already satisfied: numpy in /usr/local/lib/python3.10/dist-packages (1.26.4)\n",
            "Requirement already satisfied: scipy in /usr/local/lib/python3.10/dist-packages (1.13.1)\n",
            "Requirement already satisfied: matplotlib in /usr/local/lib/python3.10/dist-packages (3.8.0)\n",
            "Requirement already satisfied: yfinance in /usr/local/lib/python3.10/dist-packages (0.2.48)\n",
            "Requirement already satisfied: cvxpy in /usr/local/lib/python3.10/dist-packages (1.5.3)\n",
            "Requirement already satisfied: python-dateutil>=2.8.2 in /usr/local/lib/python3.10/dist-packages (from pandas) (2.8.2)\n",
            "Requirement already satisfied: pytz>=2020.1 in /usr/local/lib/python3.10/dist-packages (from pandas) (2024.2)\n",
            "Requirement already satisfied: tzdata>=2022.7 in /usr/local/lib/python3.10/dist-packages (from pandas) (2024.2)\n",
            "Requirement already satisfied: contourpy>=1.0.1 in /usr/local/lib/python3.10/dist-packages (from matplotlib) (1.3.0)\n",
            "Requirement already satisfied: cycler>=0.10 in /usr/local/lib/python3.10/dist-packages (from matplotlib) (0.12.1)\n",
            "Requirement already satisfied: fonttools>=4.22.0 in /usr/local/lib/python3.10/dist-packages (from matplotlib) (4.54.1)\n",
            "Requirement already satisfied: kiwisolver>=1.0.1 in /usr/local/lib/python3.10/dist-packages (from matplotlib) (1.4.7)\n",
            "Requirement already satisfied: packaging>=20.0 in /usr/local/lib/python3.10/dist-packages (from matplotlib) (24.1)\n",
            "Requirement already satisfied: pillow>=6.2.0 in /usr/local/lib/python3.10/dist-packages (from matplotlib) (10.4.0)\n",
            "Requirement already satisfied: pyparsing>=2.3.1 in /usr/local/lib/python3.10/dist-packages (from matplotlib) (3.2.0)\n",
            "Requirement already satisfied: requests>=2.31 in /usr/local/lib/python3.10/dist-packages (from yfinance) (2.32.3)\n",
            "Requirement already satisfied: multitasking>=0.0.7 in /usr/local/lib/python3.10/dist-packages (from yfinance) (0.0.11)\n",
            "Requirement already satisfied: lxml>=4.9.1 in /usr/local/lib/python3.10/dist-packages (from yfinance) (5.3.0)\n",
            "Requirement already satisfied: platformdirs>=2.0.0 in /usr/local/lib/python3.10/dist-packages (from yfinance) (4.3.6)\n",
            "Requirement already satisfied: frozendict>=2.3.4 in /usr/local/lib/python3.10/dist-packages (from yfinance) (2.4.6)\n",
            "Requirement already satisfied: peewee>=3.16.2 in /usr/local/lib/python3.10/dist-packages (from yfinance) (3.17.7)\n",
            "Requirement already satisfied: beautifulsoup4>=4.11.1 in /usr/local/lib/python3.10/dist-packages (from yfinance) (4.12.3)\n",
            "Requirement already satisfied: html5lib>=1.1 in /usr/local/lib/python3.10/dist-packages (from yfinance) (1.1)\n",
            "Requirement already satisfied: osqp>=0.6.2 in /usr/local/lib/python3.10/dist-packages (from cvxpy) (0.6.7.post3)\n",
            "Requirement already satisfied: ecos>=2 in /usr/local/lib/python3.10/dist-packages (from cvxpy) (2.0.14)\n",
            "Requirement already satisfied: clarabel>=0.5.0 in /usr/local/lib/python3.10/dist-packages (from cvxpy) (0.9.0)\n",
            "Requirement already satisfied: scs>=3.2.4.post1 in /usr/local/lib/python3.10/dist-packages (from cvxpy) (3.2.7)\n",
            "Requirement already satisfied: soupsieve>1.2 in /usr/local/lib/python3.10/dist-packages (from beautifulsoup4>=4.11.1->yfinance) (2.6)\n",
            "Requirement already satisfied: six>=1.9 in /usr/local/lib/python3.10/dist-packages (from html5lib>=1.1->yfinance) (1.16.0)\n",
            "Requirement already satisfied: webencodings in /usr/local/lib/python3.10/dist-packages (from html5lib>=1.1->yfinance) (0.5.1)\n",
            "Requirement already satisfied: qdldl in /usr/local/lib/python3.10/dist-packages (from osqp>=0.6.2->cvxpy) (0.1.7.post4)\n",
            "Requirement already satisfied: charset-normalizer<4,>=2 in /usr/local/lib/python3.10/dist-packages (from requests>=2.31->yfinance) (3.4.0)\n",
            "Requirement already satisfied: idna<4,>=2.5 in /usr/local/lib/python3.10/dist-packages (from requests>=2.31->yfinance) (3.10)\n",
            "Requirement already satisfied: urllib3<3,>=1.21.1 in /usr/local/lib/python3.10/dist-packages (from requests>=2.31->yfinance) (2.2.3)\n",
            "Requirement already satisfied: certifi>=2017.4.17 in /usr/local/lib/python3.10/dist-packages (from requests>=2.31->yfinance) (2024.8.30)\n"
          ]
        }
      ],
      "source": [
        "pip install pandas numpy scipy matplotlib yfinance cvxpy\n"
      ]
    },
    {
      "cell_type": "markdown",
      "source": [
        "# Collect Market Data\n",
        "* Select a set of assets for your portfolio"
      ],
      "metadata": {
        "id": "mLAEwHpa7syV"
      }
    },
    {
      "cell_type": "code",
      "source": [
        "import yfinance as yf\n",
        "import pandas as pd\n",
        "import numpy as np\n",
        "\n",
        "tickers = ['AAPL', 'MSFT', 'AMZN', 'TSM','LLY','SMCI','PLTR']\n",
        "start_date = '2022-10-01'\n",
        "end_date = '2024-10-31'\n",
        "\n",
        "data = yf.download(tickers, start=start_date, end=end_date)['Adj Close']\n",
        "print(data.head())\n"
      ],
      "metadata": {
        "id": "os5sWVmo65jv",
        "collapsed": true,
        "colab": {
          "base_uri": "https://localhost:8080/"
        },
        "outputId": "8a48c682-1052-405f-a95d-7186af11a23a"
      },
      "execution_count": 2,
      "outputs": [
        {
          "output_type": "stream",
          "name": "stderr",
          "text": [
            "[*********************100%***********************]  7 of 7 completed"
          ]
        },
        {
          "output_type": "stream",
          "name": "stdout",
          "text": [
            "Ticker                           AAPL        AMZN         LLY        MSFT  \\\n",
            "Date                                                                        \n",
            "2022-10-03 00:00:00+00:00  140.888977  115.879997  315.987122  236.660126   \n",
            "2022-10-04 00:00:00+00:00  144.498978  121.089996  324.182861  244.662170   \n",
            "2022-10-05 00:00:00+00:00  144.795654  120.949997  326.040161  244.976761   \n",
            "2022-10-06 00:00:00+00:00  143.836334  120.300003  327.189941  242.607590   \n",
            "2022-10-07 00:00:00+00:00  138.554840  114.559998  321.008789  230.270279   \n",
            "\n",
            "Ticker                     PLTR   SMCI        TSM  \n",
            "Date                                               \n",
            "2022-10-03 00:00:00+00:00  8.24  5.707  66.815445  \n",
            "2022-10-04 00:00:00+00:00  8.46  6.027  70.250282  \n",
            "2022-10-05 00:00:00+00:00  8.42  6.047  71.861588  \n",
            "2022-10-06 00:00:00+00:00  8.47  6.145  71.736145  \n",
            "2022-10-07 00:00:00+00:00  8.15  5.893  67.297874  \n"
          ]
        },
        {
          "output_type": "stream",
          "name": "stderr",
          "text": [
            "\n"
          ]
        }
      ]
    },
    {
      "cell_type": "markdown",
      "source": [
        "# Compute log returns"
      ],
      "metadata": {
        "id": "ygKlEdF_85yR"
      }
    },
    {
      "cell_type": "code",
      "source": [
        "log_returns = np.log(data / data.shift(1)).dropna()\n",
        "print(log_returns.head())\n"
      ],
      "metadata": {
        "id": "M5sd5VnB8T2k",
        "collapsed": true,
        "colab": {
          "base_uri": "https://localhost:8080/"
        },
        "outputId": "77ad3887-d80b-4c77-a19a-10d185057b13"
      },
      "execution_count": 3,
      "outputs": [
        {
          "output_type": "stream",
          "name": "stdout",
          "text": [
            "Ticker                         AAPL      AMZN       LLY      MSFT      PLTR  \\\n",
            "Date                                                                          \n",
            "2022-10-04 00:00:00+00:00  0.025300  0.043979  0.025606  0.033253  0.026349   \n",
            "2022-10-05 00:00:00+00:00  0.002051 -0.001157  0.005713  0.001285 -0.004739   \n",
            "2022-10-06 00:00:00+00:00 -0.006647 -0.005389  0.003520 -0.009718  0.005921   \n",
            "2022-10-07 00:00:00+00:00 -0.037410 -0.048890 -0.019072 -0.052192 -0.038513   \n",
            "2022-10-10 00:00:00+00:00  0.002353 -0.007799 -0.008516 -0.021533 -0.011104   \n",
            "\n",
            "Ticker                         SMCI       TSM  \n",
            "Date                                           \n",
            "2022-10-04 00:00:00+00:00  0.054556  0.050130  \n",
            "2022-10-05 00:00:00+00:00  0.003313  0.022678  \n",
            "2022-10-06 00:00:00+00:00  0.016076 -0.001747  \n",
            "2022-10-07 00:00:00+00:00 -0.041874 -0.063866  \n",
            "2022-10-10 00:00:00+00:00 -0.046544 -0.033679  \n"
          ]
        }
      ]
    },
    {
      "cell_type": "markdown",
      "source": [
        "# Calculate Market Equilibrium (CAPM Implied Returns) ($Σ$)"
      ],
      "metadata": {
        "id": "YtqtCu9p9KdM"
      }
    },
    {
      "cell_type": "code",
      "source": [
        "#Estimate the covariance matrix of returns\n",
        "cov_matrix = log_returns.cov()"
      ],
      "metadata": {
        "id": "5tK5XvTX9STQ"
      },
      "execution_count": 4,
      "outputs": []
    },
    {
      "cell_type": "markdown",
      "source": [
        "# Calculate Market Weight"
      ],
      "metadata": {
        "id": "qa1uOoAbxO5O"
      }
    },
    {
      "cell_type": "code",
      "source": [
        "tickers = ['AAPL', 'MSFT', 'AMZN', 'TSM','LLY','SMCI','PLTR']\n",
        "\n",
        "# Fetch stock information using yfinance\n",
        "stock_data = {ticker: yf.Ticker(ticker).info for ticker in tickers}\n",
        "\n",
        "# Extract market cap and store in a dictionary\n",
        "market_caps = {ticker: stock_data[ticker]['marketCap'] for ticker in tickers}\n",
        "\n",
        "# Calculate total market capitalization\n",
        "total_market_cap = sum(market_caps.values())\n",
        "\n",
        "# Calculate market weights for each stock\n",
        "market_weights = {ticker: cap / total_market_cap for ticker, cap in market_caps.items()}\n",
        "market_weights= np.array(list(market_weights.values()))\n",
        "\n"
      ],
      "metadata": {
        "id": "tifIVhuIxabo"
      },
      "execution_count": 5,
      "outputs": []
    },
    {
      "cell_type": "code",
      "source": [
        "market_risk_premium = 0.05\n",
        "risk_free_rate = 0.015"
      ],
      "metadata": {
        "id": "ni6lY9y0w2Pc"
      },
      "execution_count": 6,
      "outputs": []
    },
    {
      "cell_type": "code",
      "source": [
        "implied_returns = risk_free_rate + market_risk_premium * np.dot(cov_matrix, market_weights) # calculate the Π\n",
        "print(\"Implied Returns: \", implied_returns)\n"
      ],
      "metadata": {
        "id": "yCJof-IUw3RJ",
        "colab": {
          "base_uri": "https://localhost:8080/"
        },
        "outputId": "70a753b1-06f8-4198-c156-b63678ea7767"
      },
      "execution_count": 7,
      "outputs": [
        {
          "output_type": "stream",
          "name": "stdout",
          "text": [
            "Implied Returns:  [0.01500824 0.01501196 0.01500538 0.01500834 0.01501659 0.01501273\n",
            " 0.01500822]\n"
          ]
        }
      ]
    },
    {
      "cell_type": "markdown",
      "source": [
        "# Constructing Matrix 𝑃 & Q\n",
        "Matrix P Explained\n",
        "<br>\n",
        "\n",
        "View 1: AAPL vs. (MSFT + PLTR)\n",
        "* [1, -0.5, -0.5, 0, 0, 0, 0]\n",
        "* AAPL is expected to outperform MSFT and PLTR equally.\n",
        "<br>\n",
        "\n",
        "View 2: AMZN vs. (TSM + LLY)\n",
        "* [0, 0, 0, -0.5, 0, -0.5, 1]\n",
        "* AMZN is expected to outperform TSM and LLY equally.\n",
        "<br>\n",
        "\n",
        "View 3: MSFT vs. (PLTR + SMCI + TSM)\n",
        "* [0, -0.333, 1, 0, -0.333, -0.333, 0]\n",
        "* MSFT is expected to outperform PLTR, SMCI, and TSM collectively.\n",
        "\n",
        "Note that; sum of member in matrix for each view is equal 0 and the stock other stocks isn't mentioned is 0\n",
        "\n",
        "---\n",
        "Explanation of 𝑄\n",
        "* Q[0] = 0.03\n",
        "<br> 3% expected outperformence of AAPL over MSFT and PLTR (1-st view).\n",
        "* Q[1] = 0.02\n",
        "<br>2% expected outperformence of AMZN over TSM and LLY (2-nd view).\n",
        "* Q[2] = 0.025\n",
        "<br>2.5% expected outperformence of MSFT over PLTR, SMCI, and TSM (3-rd view).\n"
      ],
      "metadata": {
        "id": "CurHRBIe5nW4"
      }
    },
    {
      "cell_type": "code",
      "source": [
        "# View matrix P based on hypothetical analyst insights\n",
        "P = np.array([\n",
        "    [1, -0.5, -0.5, 0, 0, 0, 0],    # View 1: AAPL expected to outperform MSFT and PLTR\n",
        "    [0, 0, 0, -0.5, 0, -0.5, 1],    # View 2: AMZN expected to outperform TSM and LLY\n",
        "    [0, -(1/3), 1, 0, -(1/3), -(1/3), 0]  # View 3: MSFT expected to outperform PLTR, SMCI, and TSM\n",
        "])\n",
        "\n",
        "\n",
        "# Views (Expected returns difference)\n",
        "Q = np.array([0.0001, 0.0002, 0.00005])\n",
        "\n"
      ],
      "metadata": {
        "id": "Bs6T6UV85mAB"
      },
      "execution_count": 8,
      "outputs": []
    },
    {
      "cell_type": "markdown",
      "source": [
        "# uncertainty (confidence) level about the views ($Ω$)"
      ],
      "metadata": {
        "id": "uHxUsww35iQw"
      }
    },
    {
      "cell_type": "code",
      "source": [
        "tau = 0.25 # Scalar (small value indicating uncertainty in the prior)\n",
        "\n",
        "# Assuming P and cov_matrix (Σ) are defined\n",
        "PTSigmaP = np.dot(np.dot(P, cov_matrix), P.T)\n"
      ],
      "metadata": {
        "id": "vju1L1xRVbOY"
      },
      "execution_count": 9,
      "outputs": []
    },
    {
      "cell_type": "code",
      "source": [
        "omega = omega = tau * PTSigmaP\n",
        "  # Smaller values indicate higher confidence"
      ],
      "metadata": {
        "id": "QfB1F3vC5ktn"
      },
      "execution_count": 10,
      "outputs": []
    },
    {
      "cell_type": "markdown",
      "source": [
        "# Combine Views with Market Equilibrium Using Black-Litterman Model"
      ],
      "metadata": {
        "id": "5LzqT0_H5z3m"
      }
    },
    {
      "cell_type": "code",
      "source": [
        "import numpy as np\n",
        "\n",
        "# Compute posterior expected returns (Black-Litterman formula)\n",
        "tau = 0.25  # Scalar (small value indicating uncertainty in the prior)\n",
        "pi = implied_returns  # Prior\n",
        "\n",
        "M_inverse = np.linalg.inv(np.dot(np.dot(P.T, np.linalg.inv(omega)), P) + np.linalg.inv(tau * cov_matrix))\n",
        "adj_returns = M_inverse.dot(np.dot(np.dot(P.T, np.linalg.inv(omega)), Q) + np.linalg.inv(tau * cov_matrix).dot(pi))\n",
        "\n",
        "print(\"Adjusted Returns (Black-Litterman):\", adj_returns)\n"
      ],
      "metadata": {
        "id": "b3SHWgCA5wZw",
        "colab": {
          "base_uri": "https://localhost:8080/"
        },
        "outputId": "f37a9db2-d869-4a1a-d18a-2297adaeb545"
      },
      "execution_count": 11,
      "outputs": [
        {
          "output_type": "stream",
          "name": "stdout",
          "text": [
            "Adjusted Returns (Black-Litterman): [0.01503047 0.01498824 0.01497312 0.01500218 0.01500661 0.01486207\n",
            " 0.01503097]\n"
          ]
        }
      ]
    },
    {
      "cell_type": "markdown",
      "source": [
        "# Optimize Portfolio Allocation"
      ],
      "metadata": {
        "id": "p17-1ah16Arp"
      }
    },
    {
      "cell_type": "code",
      "source": [
        "import cvxpy as cp #library for convex optimization\n",
        "\n",
        "n = len(tickers)\n",
        "w = cp.Variable(n)  # Asset weights\n",
        "gamma = 0.1  # Risk-aversion parameter δ\n",
        "\n",
        "# Define objective: Maximize risk-adjusted returns\n",
        "objective = cp.Maximize(adj_returns.T @ w - gamma * cp.quad_form(w, cov_matrix))\n",
        "\n",
        "# Constraints: Weights sum to 1 and are non-negative\n",
        "constraints = [cp.sum(w) == 1, w >= 0]\n",
        "\n",
        "# Solve optimization problem\n",
        "prob = cp.Problem(objective, constraints)\n",
        "prob.solve()\n",
        "\n",
        "print(\"Optimal Weights:\", w.value)\n"
      ],
      "metadata": {
        "colab": {
          "base_uri": "https://localhost:8080/"
        },
        "id": "ao0HwbTw6E_D",
        "outputId": "4e4328cc-2d0a-4dbd-dbe7-a5260d0c4904"
      },
      "execution_count": 12,
      "outputs": [
        {
          "output_type": "stream",
          "name": "stdout",
          "text": [
            "Optimal Weights: [ 7.98617016e-01 -1.09849220e-20 -1.47441734e-20 -1.37298610e-20\n",
            " -4.72104259e-21  1.74343841e-20  2.01382984e-01]\n"
          ]
        }
      ]
    },
    {
      "cell_type": "markdown",
      "source": [
        "# Visualize the Optimal Portfolio"
      ],
      "metadata": {
        "id": "rBgbG6Go632H"
      }
    },
    {
      "cell_type": "code",
      "source": [
        "import matplotlib.pyplot as plt\n",
        "\n",
        "plt.bar(tickers, w.value, color='blue')\n",
        "plt.title('Optimal Portfolio Allocation (Black-Litterman)')\n",
        "plt.xlabel('Assets')\n",
        "plt.ylabel('Weight')\n",
        "plt.show()\n"
      ],
      "metadata": {
        "colab": {
          "base_uri": "https://localhost:8080/",
          "height": 472
        },
        "id": "YBnPZnS766NH",
        "outputId": "4290ce11-dcb5-40fd-fdba-122a38efd830"
      },
      "execution_count": 13,
      "outputs": [
        {
          "output_type": "display_data",
          "data": {
            "text/plain": [
              "<Figure size 640x480 with 1 Axes>"
            ],
            "image/png": "[encoded data removed]"
          },
          "metadata": {}
        }
      ]
    },
    {
      "cell_type": "code",
      "source": [
        "import matplotlib.pyplot as plt\n",
        "\n",
        "optimal_weights = w.value  # Optimal weights from the optimization\n",
        "percentage_allocations = optimal_weights * 100  # Convert to percentage\n",
        "\n",
        "# Print out each asset's percentage allocation\n",
        "for ticker, allocation in zip(tickers, percentage_allocations):\n",
        "    print(f\"{ticker}: {allocation:.2f}%\")\n"
      ],
      "metadata": {
        "colab": {
          "base_uri": "https://localhost:8080/"
        },
        "id": "jsRI6_lZC4Os",
        "outputId": "8be86371-424b-4dfd-d9ed-765b3ca91db8"
      },
      "execution_count": 14,
      "outputs": [
        {
          "output_type": "stream",
          "name": "stdout",
          "text": [
            "AAPL: 79.86%\n",
            "MSFT: -0.00%\n",
            "AMZN: -0.00%\n",
            "TSM: -0.00%\n",
            "LLY: -0.00%\n",
            "SMCI: 0.00%\n",
            "PLTR: 20.14%\n"
          ]
        }
      ]
    },
    {
      "cell_type": "markdown",
      "source": [
        "# Backtest the Portfolio Performance"
      ],
      "metadata": {
        "id": "vMkKDapn6-GD"
      }
    },
    {
      "cell_type": "code",
      "source": [
        "portfolio_returns = log_returns.dot(w.value)\n",
        "cumulative_returns = (1 + portfolio_returns).cumprod()\n",
        "\n",
        "total_percentage_gain = (cumulative_returns.iloc[-1] - 1) * 100\n",
        "\n",
        "\n",
        "plt.plot(cumulative_returns)\n",
        "plt.title('Backtested Portfolio Performance')\n",
        "plt.xlabel('Date')\n",
        "plt.ylabel('Cumulative Returns')\n",
        "plt.show()\n",
        "print(f\"Total Percentage Gain: {total_percentage_gain:.2f}%\")\n"
      ],
      "metadata": {
        "colab": {
          "base_uri": "https://localhost:8080/",
          "height": 489
        },
        "id": "XYFfHw1X7TrK",
        "outputId": "ecd1b64e-a5e6-4cbd-c830-0256eecfe0a0"
      },
      "execution_count": 15,
      "outputs": [
        {
          "output_type": "display_data",
          "data": {
            "text/plain": [
              "<Figure size 640x480 with 1 Axes>"
            ],
            "image/png": "[encoded data removed]"
          },
          "metadata": {}
        },
        {
          "output_type": "stream",
          "name": "stdout",
          "text": [
            "Total Percentage Gain: 73.14%\n"
          ]
        }
      ]
    }
  ]
}